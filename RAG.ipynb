{
  "nbformat": 4,
  "nbformat_minor": 0,
  "metadata": {
    "colab": {
      "provenance": []
    },
    "kernelspec": {
      "name": "python3",
      "display_name": "Python 3"
    },
    "language_info": {
      "name": "python"
    }
  },
  "cells": [
    {
      "cell_type": "code",
      "execution_count": null,
      "metadata": {
        "colab": {
          "base_uri": "https://localhost:8080/"
        },
        "id": "JFqEZTthXAKx",
        "outputId": "163810d9-0e1e-4607-802d-459ab00b510a"
      },
      "outputs": [
        {
          "output_type": "stream",
          "name": "stdout",
          "text": [
            "Found existing installation: protobuf 4.25.5\n",
            "Uninstalling protobuf-4.25.5:\n",
            "  Successfully uninstalled protobuf-4.25.5\n"
          ]
        }
      ],
      "source": [
        "!pip uninstall -y protobuf\n"
      ]
    },
    {
      "cell_type": "code",
      "source": [
        "!pip install protobuf==3.20.3"
      ],
      "metadata": {
        "colab": {
          "base_uri": "https://localhost:8080/",
          "height": 273
        },
        "id": "g4hoXT1gXLrm",
        "outputId": "fa6b181e-937c-46f5-a001-0b73889808b9"
      },
      "execution_count": null,
      "outputs": [
        {
          "output_type": "stream",
          "name": "stdout",
          "text": [
            "Collecting protobuf==3.20.3\n",
            "  Downloading protobuf-3.20.3-cp310-cp310-manylinux_2_12_x86_64.manylinux2010_x86_64.whl.metadata (679 bytes)\n",
            "Downloading protobuf-3.20.3-cp310-cp310-manylinux_2_12_x86_64.manylinux2010_x86_64.whl (1.1 MB)\n",
            "\u001b[?25l   \u001b[90m━━━━━━━━━━━━━━━━━━━━━━━━━━━━━━━━━━━━━━━━\u001b[0m \u001b[32m0.0/1.1 MB\u001b[0m \u001b[31m?\u001b[0m eta \u001b[36m-:--:--\u001b[0m\r\u001b[2K   \u001b[90m━━━━━━━━━━━━━━━━━━━━━━━━━━━━━━━━━━━━━━━━\u001b[0m \u001b[32m1.1/1.1 MB\u001b[0m \u001b[31m32.4 MB/s\u001b[0m eta \u001b[36m0:00:00\u001b[0m\n",
            "\u001b[?25hInstalling collected packages: protobuf\n",
            "\u001b[31mERROR: pip's dependency resolver does not currently take into account all the packages that are installed. This behaviour is the source of the following dependency conflicts.\n",
            "grpcio-status 1.62.3 requires protobuf>=4.21.6, but you have protobuf 3.20.3 which is incompatible.\u001b[0m\u001b[31m\n",
            "\u001b[0mSuccessfully installed protobuf-3.20.3\n"
          ]
        },
        {
          "output_type": "display_data",
          "data": {
            "application/vnd.colab-display-data+json": {
              "pip_warning": {
                "packages": [
                  "google"
                ]
              },
              "id": "7b3d7c88777b44caa209209c0735b067"
            }
          },
          "metadata": {}
        }
      ]
    },
    {
      "cell_type": "code",
      "source": [
        "!pip install -q groq langchain-groq litellm PyPDF2 chromadb text-generation langchain sentence-transformers langchain-community rank_bm25 gradio\n",
        "\n"
      ],
      "metadata": {
        "colab": {
          "base_uri": "https://localhost:8080/"
        },
        "id": "AFMpzT7pXcCT",
        "outputId": "c8e5b921-5292-406e-c880-867fd15e846a"
      },
      "execution_count": null,
      "outputs": [
        {
          "output_type": "stream",
          "name": "stdout",
          "text": [
            "\u001b[?25l     \u001b[90m━━━━━━━━━━━━━━━━━━━━━━━━━━━━━━━━━━━━━━━━\u001b[0m \u001b[32m0.0/67.3 kB\u001b[0m \u001b[31m?\u001b[0m eta \u001b[36m-:--:--\u001b[0m\r\u001b[2K     \u001b[90m━━━━━━━━━━━━━━━━━━━━━━━━━━━━━━━━━━━━━━━━\u001b[0m \u001b[32m67.3/67.3 kB\u001b[0m \u001b[31m4.7 MB/s\u001b[0m eta \u001b[36m0:00:00\u001b[0m\n",
            "\u001b[?25h  Installing build dependencies ... \u001b[?25l\u001b[?25hdone\n",
            "  Getting requirements to build wheel ... \u001b[?25l\u001b[?25hdone\n",
            "  Preparing metadata (pyproject.toml) ... \u001b[?25l\u001b[?25hdone\n",
            "\u001b[2K     \u001b[90m━━━━━━━━━━━━━━━━━━━━━━━━━━━━━━━━━━━━━━━━\u001b[0m \u001b[32m43.5/43.5 kB\u001b[0m \u001b[31m2.7 MB/s\u001b[0m eta \u001b[36m0:00:00\u001b[0m\n",
            "\u001b[2K     \u001b[90m━━━━━━━━━━━━━━━━━━━━━━━━━━━━━━━━━━━━━━━━\u001b[0m \u001b[32m44.1/44.1 kB\u001b[0m \u001b[31m2.8 MB/s\u001b[0m eta \u001b[36m0:00:00\u001b[0m\n",
            "\u001b[2K   \u001b[90m━━━━━━━━━━━━━━━━━━━━━━━━━━━━━━━━━━━━━━━━\u001b[0m \u001b[32m109.1/109.1 kB\u001b[0m \u001b[31m5.8 MB/s\u001b[0m eta \u001b[36m0:00:00\u001b[0m\n",
            "\u001b[2K   \u001b[90m━━━━━━━━━━━━━━━━━━━━━━━━━━━━━━━━━━━━━━━━\u001b[0m \u001b[32m6.5/6.5 MB\u001b[0m \u001b[31m86.2 MB/s\u001b[0m eta \u001b[36m0:00:00\u001b[0m\n",
            "\u001b[2K   \u001b[90m━━━━━━━━━━━━━━━━━━━━━━━━━━━━━━━━━━━━━━━━\u001b[0m \u001b[32m232.6/232.6 kB\u001b[0m \u001b[31m12.9 MB/s\u001b[0m eta \u001b[36m0:00:00\u001b[0m\n",
            "\u001b[2K   \u001b[90m━━━━━━━━━━━━━━━━━━━━━━━━━━━━━━━━━━━━━━━━\u001b[0m \u001b[32m628.3/628.3 kB\u001b[0m \u001b[31m27.2 MB/s\u001b[0m eta \u001b[36m0:00:00\u001b[0m\n",
            "\u001b[2K   \u001b[90m━━━━━━━━━━━━━━━━━━━━━━━━━━━━━━━━━━━━━━━━\u001b[0m \u001b[32m2.4/2.4 MB\u001b[0m \u001b[31m55.3 MB/s\u001b[0m eta \u001b[36m0:00:00\u001b[0m\n",
            "\u001b[2K   \u001b[90m━━━━━━━━━━━━━━━━━━━━━━━━━━━━━━━━━━━━━━━━\u001b[0m \u001b[32m2.5/2.5 MB\u001b[0m \u001b[31m66.8 MB/s\u001b[0m eta \u001b[36m0:00:00\u001b[0m\n",
            "\u001b[2K   \u001b[90m━━━━━━━━━━━━━━━━━━━━━━━━━━━━━━━━━━━━━━━━\u001b[0m \u001b[32m1.0/1.0 MB\u001b[0m \u001b[31m40.6 MB/s\u001b[0m eta \u001b[36m0:00:00\u001b[0m\n",
            "\u001b[2K   \u001b[90m━━━━━━━━━━━━━━━━━━━━━━━━━━━━━━━━━━━━━━━━\u001b[0m \u001b[32m57.2/57.2 MB\u001b[0m \u001b[31m14.9 MB/s\u001b[0m eta \u001b[36m0:00:00\u001b[0m\n",
            "\u001b[2K   \u001b[90m━━━━━━━━━━━━━━━━━━━━━━━━━━━━━━━━━━━━━━━━\u001b[0m \u001b[32m320.4/320.4 kB\u001b[0m \u001b[31m19.8 MB/s\u001b[0m eta \u001b[36m0:00:00\u001b[0m\n",
            "\u001b[2K   \u001b[90m━━━━━━━━━━━━━━━━━━━━━━━━━━━━━━━━━━━━━━━━\u001b[0m \u001b[32m278.6/278.6 kB\u001b[0m \u001b[31m18.5 MB/s\u001b[0m eta \u001b[36m0:00:00\u001b[0m\n",
            "\u001b[2K   \u001b[90m━━━━━━━━━━━━━━━━━━━━━━━━━━━━━━━━━━━━━━━━\u001b[0m \u001b[32m94.8/94.8 kB\u001b[0m \u001b[31m6.5 MB/s\u001b[0m eta \u001b[36m0:00:00\u001b[0m\n",
            "\u001b[2K   \u001b[90m━━━━━━━━━━━━━━━━━━━━━━━━━━━━━━━━━━━━━━━━\u001b[0m \u001b[32m76.4/76.4 kB\u001b[0m \u001b[31m5.2 MB/s\u001b[0m eta \u001b[36m0:00:00\u001b[0m\n",
            "\u001b[2K   \u001b[90m━━━━━━━━━━━━━━━━━━━━━━━━━━━━━━━━━━━━━━━━\u001b[0m \u001b[32m1.9/1.9 MB\u001b[0m \u001b[31m61.5 MB/s\u001b[0m eta \u001b[36m0:00:00\u001b[0m\n",
            "\u001b[2K   \u001b[90m━━━━━━━━━━━━━━━━━━━━━━━━━━━━━━━━━━━━━━━━\u001b[0m \u001b[32m411.6/411.6 kB\u001b[0m \u001b[31m25.0 MB/s\u001b[0m eta \u001b[36m0:00:00\u001b[0m\n",
            "\u001b[2K   \u001b[90m━━━━━━━━━━━━━━━━━━━━━━━━━━━━━━━━━━━━━━━━\u001b[0m \u001b[32m93.2/93.2 kB\u001b[0m \u001b[31m7.1 MB/s\u001b[0m eta \u001b[36m0:00:00\u001b[0m\n",
            "\u001b[2K   \u001b[90m━━━━━━━━━━━━━━━━━━━━━━━━━━━━━━━━━━━━━━━━\u001b[0m \u001b[32m13.3/13.3 MB\u001b[0m \u001b[31m84.3 MB/s\u001b[0m eta \u001b[36m0:00:00\u001b[0m\n",
            "\u001b[2K   \u001b[90m━━━━━━━━━━━━━━━━━━━━━━━━━━━━━━━━━━━━━━━━\u001b[0m \u001b[32m55.8/55.8 kB\u001b[0m \u001b[31m3.7 MB/s\u001b[0m eta \u001b[36m0:00:00\u001b[0m\n",
            "\u001b[2K   \u001b[90m━━━━━━━━━━━━━━━━━━━━━━━━━━━━━━━━━━━━━━━━\u001b[0m \u001b[32m54.8/54.8 kB\u001b[0m \u001b[31m3.9 MB/s\u001b[0m eta \u001b[36m0:00:00\u001b[0m\n",
            "\u001b[2K   \u001b[90m━━━━━━━━━━━━━━━━━━━━━━━━━━━━━━━━━━━━━━━━\u001b[0m \u001b[32m11.2/11.2 MB\u001b[0m \u001b[31m79.1 MB/s\u001b[0m eta \u001b[36m0:00:00\u001b[0m\n",
            "\u001b[2K   \u001b[90m━━━━━━━━━━━━━━━━━━━━━━━━━━━━━━━━━━━━━━━━\u001b[0m \u001b[32m73.2/73.2 kB\u001b[0m \u001b[31m5.1 MB/s\u001b[0m eta \u001b[36m0:00:00\u001b[0m\n",
            "\u001b[2K   \u001b[90m━━━━━━━━━━━━━━━━━━━━━━━━━━━━━━━━━━━━━━━━\u001b[0m \u001b[32m1.2/1.2 MB\u001b[0m \u001b[31m41.4 MB/s\u001b[0m eta \u001b[36m0:00:00\u001b[0m\n",
            "\u001b[2K   \u001b[90m━━━━━━━━━━━━━━━━━━━━━━━━━━━━━━━━━━━━━━━━\u001b[0m \u001b[32m3.0/3.0 MB\u001b[0m \u001b[31m68.1 MB/s\u001b[0m eta \u001b[36m0:00:00\u001b[0m\n",
            "\u001b[2K   \u001b[90m━━━━━━━━━━━━━━━━━━━━━━━━━━━━━━━━━━━━━━━━\u001b[0m \u001b[32m10.0/10.0 MB\u001b[0m \u001b[31m90.1 MB/s\u001b[0m eta \u001b[36m0:00:00\u001b[0m\n",
            "\u001b[2K   \u001b[90m━━━━━━━━━━━━━━━━━━━━━━━━━━━━━━━━━━━━━━━━\u001b[0m \u001b[32m62.3/62.3 kB\u001b[0m \u001b[31m4.4 MB/s\u001b[0m eta \u001b[36m0:00:00\u001b[0m\n",
            "\u001b[2K   \u001b[90m━━━━━━━━━━━━━━━━━━━━━━━━━━━━━━━━━━━━━━━━\u001b[0m \u001b[32m442.1/442.1 kB\u001b[0m \u001b[31m25.5 MB/s\u001b[0m eta \u001b[36m0:00:00\u001b[0m\n",
            "\u001b[2K   \u001b[90m━━━━━━━━━━━━━━━━━━━━━━━━━━━━━━━━━━━━━━━━\u001b[0m \u001b[32m49.3/49.3 kB\u001b[0m \u001b[31m3.1 MB/s\u001b[0m eta \u001b[36m0:00:00\u001b[0m\n",
            "\u001b[2K   \u001b[90m━━━━━━━━━━━━━━━━━━━━━━━━━━━━━━━━━━━━━━━━\u001b[0m \u001b[32m319.7/319.7 kB\u001b[0m \u001b[31m20.3 MB/s\u001b[0m eta \u001b[36m0:00:00\u001b[0m\n",
            "\u001b[2K   \u001b[90m━━━━━━━━━━━━━━━━━━━━━━━━━━━━━━━━━━━━━━━━\u001b[0m \u001b[32m3.8/3.8 MB\u001b[0m \u001b[31m37.2 MB/s\u001b[0m eta \u001b[36m0:00:00\u001b[0m\n",
            "\u001b[2K   \u001b[90m━━━━━━━━━━━━━━━━━━━━━━━━━━━━━━━━━━━━━━━━\u001b[0m \u001b[32m443.8/443.8 kB\u001b[0m \u001b[31m25.2 MB/s\u001b[0m eta \u001b[36m0:00:00\u001b[0m\n",
            "\u001b[2K   \u001b[90m━━━━━━━━━━━━━━━━━━━━━━━━━━━━━━━━━━━━━━━━\u001b[0m \u001b[32m46.0/46.0 kB\u001b[0m \u001b[31m3.0 MB/s\u001b[0m eta \u001b[36m0:00:00\u001b[0m\n",
            "\u001b[2K   \u001b[90m━━━━━━━━━━━━━━━━━━━━━━━━━━━━━━━━━━━━━━━━\u001b[0m \u001b[32m86.8/86.8 kB\u001b[0m \u001b[31m5.3 MB/s\u001b[0m eta \u001b[36m0:00:00\u001b[0m\n",
            "\u001b[?25h  Building wheel for pypika (pyproject.toml) ... \u001b[?25l\u001b[?25hdone\n",
            "\u001b[31mERROR: pip's dependency resolver does not currently take into account all the packages that are installed. This behaviour is the source of the following dependency conflicts.\n",
            "tensorflow 2.17.1 requires protobuf!=4.21.0,!=4.21.1,!=4.21.2,!=4.21.3,!=4.21.4,!=4.21.5,<5.0.0dev,>=3.20.3, but you have protobuf 5.29.2 which is incompatible.\n",
            "tensorflow-metadata 1.13.1 requires protobuf<5,>=3.20.3, but you have protobuf 5.29.2 which is incompatible.\u001b[0m\u001b[31m\n",
            "\u001b[0m"
          ]
        }
      ]
    },
    {
      "cell_type": "code",
      "source": [
        "print(\"Testing imports...\")\n",
        "import os\n",
        "import gradio as gr\n",
        "from typing import Dict, List, Optional\n",
        "from google.colab import files, userdata\n",
        "\n",
        "from langchain.document_loaders import TextLoader\n",
        "from langchain.text_splitter import RecursiveCharacterTextSplitter\n",
        "from langchain.embeddings import HuggingFaceEmbeddings\n",
        "from langchain.chains import RetrievalQA\n",
        "from langchain.prompts import PromptTemplate\n",
        "from langchain_community.vectorstores import Chroma\n",
        "from langchain_community.retrievers import BM25Retriever\n",
        "from langchain.retrievers import EnsembleRetriever\n",
        "from langchain_groq import ChatGroq\n",
        "print(\"All imports successful!\")"
      ],
      "metadata": {
        "colab": {
          "base_uri": "https://localhost:8080/"
        },
        "id": "H6AhpPbJX5QA",
        "outputId": "f95354d1-828b-4046-d0e5-0545e9686319"
      },
      "execution_count": null,
      "outputs": [
        {
          "output_type": "stream",
          "name": "stdout",
          "text": [
            "Testing imports...\n",
            "All imports successful!\n"
          ]
        }
      ]
    },
    {
      "cell_type": "code",
      "source": [
        "class AmazonReturnPolicyAssistant:\n",
        "    def __init__(self, api_key: str):\n",
        "        print(\"Initializing assistant...\")\n",
        "        os.environ[\"GROQ_API_KEY\"] = api_key\n",
        "        print(\"API key set\")\n",
        "\n",
        "        print(\"Setting up LLM...\")\n",
        "        self.llm = ChatGroq(model=\"llama-3.1-8b-instant\", temperature=0)\n",
        "        print(\"LLM setup complete\")\n",
        "\n",
        "        print(\"Setting up embeddings...\")\n",
        "        self.embeddings = HuggingFaceEmbeddings(\n",
        "            model_name=\"sentence-transformers/all-MiniLM-l6-v2\",\n",
        "            model_kwargs={'device': 'cpu'},\n",
        "            encode_kwargs={'normalize_embeddings': False}\n",
        "        )\n",
        "        print(\"Embeddings setup complete\")\n",
        "        print(\"Initialization complete!\")\n",
        "\n",
        "    def process_document(self, file_path: str):\n",
        "        print(f\"Processing document: {file_path}\")\n",
        "        loader = TextLoader(file_path)\n",
        "        data = loader.load()\n",
        "        print(\"Document loaded\")\n",
        "\n",
        "        text_splitter = RecursiveCharacterTextSplitter(\n",
        "            chunk_size=100,\n",
        "            chunk_overlap=50\n",
        "        )\n",
        "        docs = text_splitter.split_documents(data)\n",
        "        print(\"Document split into chunks\")\n",
        "\n",
        "        vectordb = Chroma.from_documents(docs, self.embeddings)\n",
        "        vector_retriever = vectordb.as_retriever(\n",
        "            search_type=\"mmr\",\n",
        "            search_kwargs={\"k\": 1}\n",
        "        )\n",
        "        print(\"Vector retriever created\")\n",
        "\n",
        "        bm25_retriever = BM25Retriever.from_documents(docs)\n",
        "        bm25_retriever.k = 2\n",
        "        print(\"BM25 retriever created\")\n",
        "\n",
        "        ensemble_retriever = EnsembleRetriever(\n",
        "            retrievers=[bm25_retriever, vector_retriever],\n",
        "            weights=[0.2, 0.8]\n",
        "        )\n",
        "        print(\"Ensemble retriever created\")\n",
        "\n",
        "        prompt = PromptTemplate(\n",
        "            template=\"\"\"You are an Amazon Return Policy Assistant, expert in providing clear and concise information.\n",
        "            Context: {context}\n",
        "            Question: {question}\n",
        "            Please provide a clear and helpful response.\"\"\",\n",
        "            input_variables=[\"context\", \"question\"]\n",
        "        )\n",
        "        print(\"Prompt template created\")\n",
        "\n",
        "        qa_chain = RetrievalQA.from_chain_type(\n",
        "            llm=self.llm,\n",
        "            chain_type=\"stuff\",\n",
        "            retriever=ensemble_retriever,\n",
        "            chain_type_kwargs={\"prompt\": prompt}\n",
        "        )\n",
        "        print(\"QA chain created\")\n",
        "        return qa_chain"
      ],
      "metadata": {
        "id": "QvWBTGhFYGPQ"
      },
      "execution_count": null,
      "outputs": []
    },
    {
      "cell_type": "code",
      "source": [
        "print(\"Testing file upload...\")\n",
        "uploaded = files.upload()\n",
        "file_name = list(uploaded.keys())[0]\n",
        "print(f\"File uploaded: {file_name}\")\n",
        "\n",
        "print(\"Getting API key...\")\n",
        "groq_api_key = userdata.get('groq_api')\n",
        "if not groq_api_key:\n",
        "    raise ValueError(\"GROQ API key not found in Colab secrets\")\n",
        "print(\"API key retrieved\")"
      ],
      "metadata": {
        "colab": {
          "base_uri": "https://localhost:8080/",
          "height": 142
        },
        "id": "kGmyr9qgYTh0",
        "outputId": "a11a320e-8d59-4c74-fce2-ad94336862fd"
      },
      "execution_count": null,
      "outputs": [
        {
          "output_type": "stream",
          "name": "stdout",
          "text": [
            "Testing file upload...\n"
          ]
        },
        {
          "output_type": "display_data",
          "data": {
            "text/plain": [
              "<IPython.core.display.HTML object>"
            ],
            "text/html": [
              "\n",
              "     <input type=\"file\" id=\"files-a5b942af-0b1f-4c19-a9ae-b4b60dcd925b\" name=\"files[]\" multiple disabled\n",
              "        style=\"border:none\" />\n",
              "     <output id=\"result-a5b942af-0b1f-4c19-a9ae-b4b60dcd925b\">\n",
              "      Upload widget is only available when the cell has been executed in the\n",
              "      current browser session. Please rerun this cell to enable.\n",
              "      </output>\n",
              "      <script>// Copyright 2017 Google LLC\n",
              "//\n",
              "// Licensed under the Apache License, Version 2.0 (the \"License\");\n",
              "// you may not use this file except in compliance with the License.\n",
              "// You may obtain a copy of the License at\n",
              "//\n",
              "//      http://www.apache.org/licenses/LICENSE-2.0\n",
              "//\n",
              "// Unless required by applicable law or agreed to in writing, software\n",
              "// distributed under the License is distributed on an \"AS IS\" BASIS,\n",
              "// WITHOUT WARRANTIES OR CONDITIONS OF ANY KIND, either express or implied.\n",
              "// See the License for the specific language governing permissions and\n",
              "// limitations under the License.\n",
              "\n",
              "/**\n",
              " * @fileoverview Helpers for google.colab Python module.\n",
              " */\n",
              "(function(scope) {\n",
              "function span(text, styleAttributes = {}) {\n",
              "  const element = document.createElement('span');\n",
              "  element.textContent = text;\n",
              "  for (const key of Object.keys(styleAttributes)) {\n",
              "    element.style[key] = styleAttributes[key];\n",
              "  }\n",
              "  return element;\n",
              "}\n",
              "\n",
              "// Max number of bytes which will be uploaded at a time.\n",
              "const MAX_PAYLOAD_SIZE = 100 * 1024;\n",
              "\n",
              "function _uploadFiles(inputId, outputId) {\n",
              "  const steps = uploadFilesStep(inputId, outputId);\n",
              "  const outputElement = document.getElementById(outputId);\n",
              "  // Cache steps on the outputElement to make it available for the next call\n",
              "  // to uploadFilesContinue from Python.\n",
              "  outputElement.steps = steps;\n",
              "\n",
              "  return _uploadFilesContinue(outputId);\n",
              "}\n",
              "\n",
              "// This is roughly an async generator (not supported in the browser yet),\n",
              "// where there are multiple asynchronous steps and the Python side is going\n",
              "// to poll for completion of each step.\n",
              "// This uses a Promise to block the python side on completion of each step,\n",
              "// then passes the result of the previous step as the input to the next step.\n",
              "function _uploadFilesContinue(outputId) {\n",
              "  const outputElement = document.getElementById(outputId);\n",
              "  const steps = outputElement.steps;\n",
              "\n",
              "  const next = steps.next(outputElement.lastPromiseValue);\n",
              "  return Promise.resolve(next.value.promise).then((value) => {\n",
              "    // Cache the last promise value to make it available to the next\n",
              "    // step of the generator.\n",
              "    outputElement.lastPromiseValue = value;\n",
              "    return next.value.response;\n",
              "  });\n",
              "}\n",
              "\n",
              "/**\n",
              " * Generator function which is called between each async step of the upload\n",
              " * process.\n",
              " * @param {string} inputId Element ID of the input file picker element.\n",
              " * @param {string} outputId Element ID of the output display.\n",
              " * @return {!Iterable<!Object>} Iterable of next steps.\n",
              " */\n",
              "function* uploadFilesStep(inputId, outputId) {\n",
              "  const inputElement = document.getElementById(inputId);\n",
              "  inputElement.disabled = false;\n",
              "\n",
              "  const outputElement = document.getElementById(outputId);\n",
              "  outputElement.innerHTML = '';\n",
              "\n",
              "  const pickedPromise = new Promise((resolve) => {\n",
              "    inputElement.addEventListener('change', (e) => {\n",
              "      resolve(e.target.files);\n",
              "    });\n",
              "  });\n",
              "\n",
              "  const cancel = document.createElement('button');\n",
              "  inputElement.parentElement.appendChild(cancel);\n",
              "  cancel.textContent = 'Cancel upload';\n",
              "  const cancelPromise = new Promise((resolve) => {\n",
              "    cancel.onclick = () => {\n",
              "      resolve(null);\n",
              "    };\n",
              "  });\n",
              "\n",
              "  // Wait for the user to pick the files.\n",
              "  const files = yield {\n",
              "    promise: Promise.race([pickedPromise, cancelPromise]),\n",
              "    response: {\n",
              "      action: 'starting',\n",
              "    }\n",
              "  };\n",
              "\n",
              "  cancel.remove();\n",
              "\n",
              "  // Disable the input element since further picks are not allowed.\n",
              "  inputElement.disabled = true;\n",
              "\n",
              "  if (!files) {\n",
              "    return {\n",
              "      response: {\n",
              "        action: 'complete',\n",
              "      }\n",
              "    };\n",
              "  }\n",
              "\n",
              "  for (const file of files) {\n",
              "    const li = document.createElement('li');\n",
              "    li.append(span(file.name, {fontWeight: 'bold'}));\n",
              "    li.append(span(\n",
              "        `(${file.type || 'n/a'}) - ${file.size} bytes, ` +\n",
              "        `last modified: ${\n",
              "            file.lastModifiedDate ? file.lastModifiedDate.toLocaleDateString() :\n",
              "                                    'n/a'} - `));\n",
              "    const percent = span('0% done');\n",
              "    li.appendChild(percent);\n",
              "\n",
              "    outputElement.appendChild(li);\n",
              "\n",
              "    const fileDataPromise = new Promise((resolve) => {\n",
              "      const reader = new FileReader();\n",
              "      reader.onload = (e) => {\n",
              "        resolve(e.target.result);\n",
              "      };\n",
              "      reader.readAsArrayBuffer(file);\n",
              "    });\n",
              "    // Wait for the data to be ready.\n",
              "    let fileData = yield {\n",
              "      promise: fileDataPromise,\n",
              "      response: {\n",
              "        action: 'continue',\n",
              "      }\n",
              "    };\n",
              "\n",
              "    // Use a chunked sending to avoid message size limits. See b/62115660.\n",
              "    let position = 0;\n",
              "    do {\n",
              "      const length = Math.min(fileData.byteLength - position, MAX_PAYLOAD_SIZE);\n",
              "      const chunk = new Uint8Array(fileData, position, length);\n",
              "      position += length;\n",
              "\n",
              "      const base64 = btoa(String.fromCharCode.apply(null, chunk));\n",
              "      yield {\n",
              "        response: {\n",
              "          action: 'append',\n",
              "          file: file.name,\n",
              "          data: base64,\n",
              "        },\n",
              "      };\n",
              "\n",
              "      let percentDone = fileData.byteLength === 0 ?\n",
              "          100 :\n",
              "          Math.round((position / fileData.byteLength) * 100);\n",
              "      percent.textContent = `${percentDone}% done`;\n",
              "\n",
              "    } while (position < fileData.byteLength);\n",
              "  }\n",
              "\n",
              "  // All done.\n",
              "  yield {\n",
              "    response: {\n",
              "      action: 'complete',\n",
              "    }\n",
              "  };\n",
              "}\n",
              "\n",
              "scope.google = scope.google || {};\n",
              "scope.google.colab = scope.google.colab || {};\n",
              "scope.google.colab._files = {\n",
              "  _uploadFiles,\n",
              "  _uploadFilesContinue,\n",
              "};\n",
              "})(self);\n",
              "</script> "
            ]
          },
          "metadata": {}
        },
        {
          "output_type": "stream",
          "name": "stdout",
          "text": [
            "Saving rag-evaluation.py to rag-evaluation.py\n",
            "File uploaded: rag-evaluation.py\n",
            "Getting API key...\n",
            "API key retrieved\n"
          ]
        }
      ]
    },
    {
      "cell_type": "code",
      "source": [
        "print(\"Creating assistant...\")\n",
        "assistant = AmazonReturnPolicyAssistant(groq_api_key)\n",
        "qa_chain = assistant.process_document(file_name)\n",
        "print(\"Assistant ready!\")"
      ],
      "metadata": {
        "colab": {
          "base_uri": "https://localhost:8080/"
        },
        "id": "0gARJvaMY0TS",
        "outputId": "df80516b-16bf-4776-8b97-67df0da3ad17"
      },
      "execution_count": null,
      "outputs": [
        {
          "output_type": "stream",
          "name": "stdout",
          "text": [
            "Creating assistant...\n",
            "Initializing assistant...\n",
            "API key set\n",
            "Setting up LLM...\n",
            "LLM setup complete\n",
            "Setting up embeddings...\n",
            "Embeddings setup complete\n",
            "Initialization complete!\n",
            "Processing document: rag-evaluation.py\n",
            "Document loaded\n",
            "Document split into chunks\n",
            "Vector retriever created\n",
            "BM25 retriever created\n",
            "Ensemble retriever created\n",
            "Prompt template created\n",
            "QA chain created\n",
            "Assistant ready!\n"
          ]
        }
      ]
    },
    {
      "cell_type": "code",
      "source": [
        "def create_interface(qa_chain):\n",
        "    def query_handler(query: str) -> str:\n",
        "        try:\n",
        "            return qa_chain.run({\"query\": query})\n",
        "        except Exception as e:\n",
        "            return f\"Error processing query: {str(e)}\"\n",
        "\n",
        "    interface = gr.Interface(\n",
        "        fn=query_handler,\n",
        "        inputs=gr.Textbox(\n",
        "            lines=4,\n",
        "            placeholder=\"Ask about Amazon's return policies...\",\n",
        "            label=\"Your Question\"\n",
        "        ),\n",
        "        outputs=gr.Textbox(label=\"Answer\"),\n",
        "        title=\"Amazon Return Policy Assistant\",\n",
        "        examples=[[\"What is the general return policy?\"]]\n",
        "    )\n",
        "    return interface\n",
        "\n",
        "print(\"Launching interface...\")\n",
        "interface = create_interface(qa_chain)\n",
        "interface.launch()\n",
        "\n",
        "\n"
      ],
      "metadata": {
        "colab": {
          "base_uri": "https://localhost:8080/",
          "height": 663
        },
        "id": "KKYcDZNVZGqO",
        "outputId": "7dadf7e5-6508-4ba3-ea0e-b8b7403edf62"
      },
      "execution_count": null,
      "outputs": [
        {
          "output_type": "stream",
          "name": "stdout",
          "text": [
            "Launching interface...\n",
            "Running Gradio in a Colab notebook requires sharing enabled. Automatically setting `share=True` (you can turn this off by setting `share=False` in `launch()` explicitly).\n",
            "\n",
            "Colab notebook detected. To show errors in colab notebook, set debug=True in launch()\n",
            "* Running on public URL: https://88fba1e60301a2d390.gradio.live\n",
            "\n",
            "This share link expires in 72 hours. For free permanent hosting and GPU upgrades, run `gradio deploy` from the terminal in the working directory to deploy to Hugging Face Spaces (https://huggingface.co/spaces)\n"
          ]
        },
        {
          "output_type": "display_data",
          "data": {
            "text/plain": [
              "<IPython.core.display.HTML object>"
            ],
            "text/html": [
              "<div><iframe src=\"https://88fba1e60301a2d390.gradio.live\" width=\"100%\" height=\"500\" allow=\"autoplay; camera; microphone; clipboard-read; clipboard-write;\" frameborder=\"0\" allowfullscreen></iframe></div>"
            ]
          },
          "metadata": {}
        },
        {
          "output_type": "execute_result",
          "data": {
            "text/plain": []
          },
          "metadata": {},
          "execution_count": 20
        }
      ]
    },
    {
      "cell_type": "markdown",
      "source": [
        "RAG Evaluation"
      ],
      "metadata": {
        "id": "dVDK3mNIZqPk"
      }
    },
    {
      "cell_type": "code",
      "source": [
        "!pip install numpy nltk rouge-score scikit-learn\n"
      ],
      "metadata": {
        "colab": {
          "base_uri": "https://localhost:8080/"
        },
        "id": "-ZJVyP-Wg3e0",
        "outputId": "f7aff5fc-b513-4d3e-d895-58fb4886dcea"
      },
      "execution_count": null,
      "outputs": [
        {
          "output_type": "stream",
          "name": "stdout",
          "text": [
            "Requirement already satisfied: numpy in /usr/local/lib/python3.10/dist-packages (1.26.4)\n",
            "Requirement already satisfied: nltk in /usr/local/lib/python3.10/dist-packages (3.9.1)\n",
            "Collecting rouge-score\n",
            "  Downloading rouge_score-0.1.2.tar.gz (17 kB)\n",
            "  Preparing metadata (setup.py) ... \u001b[?25l\u001b[?25hdone\n",
            "Requirement already satisfied: scikit-learn in /usr/local/lib/python3.10/dist-packages (1.6.0)\n",
            "Requirement already satisfied: click in /usr/local/lib/python3.10/dist-packages (from nltk) (8.1.7)\n",
            "Requirement already satisfied: joblib in /usr/local/lib/python3.10/dist-packages (from nltk) (1.4.2)\n",
            "Requirement already satisfied: regex>=2021.8.3 in /usr/local/lib/python3.10/dist-packages (from nltk) (2024.11.6)\n",
            "Requirement already satisfied: tqdm in /usr/local/lib/python3.10/dist-packages (from nltk) (4.67.1)\n",
            "Requirement already satisfied: absl-py in /usr/local/lib/python3.10/dist-packages (from rouge-score) (1.4.0)\n",
            "Requirement already satisfied: six>=1.14.0 in /usr/local/lib/python3.10/dist-packages (from rouge-score) (1.17.0)\n",
            "Requirement already satisfied: scipy>=1.6.0 in /usr/local/lib/python3.10/dist-packages (from scikit-learn) (1.13.1)\n",
            "Requirement already satisfied: threadpoolctl>=3.1.0 in /usr/local/lib/python3.10/dist-packages (from scikit-learn) (3.5.0)\n",
            "Building wheels for collected packages: rouge-score\n",
            "  Building wheel for rouge-score (setup.py) ... \u001b[?25l\u001b[?25hdone\n",
            "  Created wheel for rouge-score: filename=rouge_score-0.1.2-py3-none-any.whl size=24935 sha256=11ea4e0c706fc1dafa5ed916a67843c52f644864fa6c10b17f77598602be9c8f\n",
            "  Stored in directory: /root/.cache/pip/wheels/5f/dd/89/461065a73be61a532ff8599a28e9beef17985c9e9c31e541b4\n",
            "Successfully built rouge-score\n",
            "Installing collected packages: rouge-score\n",
            "Successfully installed rouge-score-0.1.2\n"
          ]
        }
      ]
    },
    {
      "cell_type": "code",
      "source": [
        "import numpy as np\n",
        "from nltk.translate.bleu_score import sentence_bleu, SmoothingFunction\n",
        "from rouge_score import rouge_scorer\n",
        "from sklearn.feature_extraction.text import CountVectorizer\n",
        "from sklearn.metrics.pairwise import cosine_similarity\n",
        "import nltk\n",
        "from typing import List, Dict, Optional\n",
        "from statistics import mean\n",
        "\n",
        "class RAGEvaluator:\n",
        "    def __init__(self):\n",
        "        \"\"\"Initialize the RAG evaluator with required NLTK resources and scoring tools.\"\"\"\n",
        "        try:\n",
        "            nltk.download('punkt', quiet=True)\n",
        "        except:\n",
        "            pass\n",
        "        self.scorer = rouge_scorer.RougeScorer(['rouge1', 'rouge2', 'rougeL'], use_stemmer=True)\n",
        "        self.smoothie = SmoothingFunction().method1\n",
        "        self.vectorizer = CountVectorizer(stop_words='english')\n",
        "\n",
        "    def _compute_similarity(self, text1: str, text2: str) -> float:\n",
        "        \"\"\"\n",
        "        Compute cosine similarity between two texts.\n",
        "\n",
        "        Args:\n",
        "            text1: First text string\n",
        "            text2: Second text string\n",
        "\n",
        "        Returns:\n",
        "            float: Cosine similarity score\n",
        "        \"\"\"\n",
        "        if not text1.strip() or not text2.strip():\n",
        "            return 0.0\n",
        "\n",
        "        try:\n",
        "            vectors = self.vectorizer.fit_transform([text1, text2])\n",
        "            return cosine_similarity(vectors[0:1], vectors[1:2])[0][0]\n",
        "        except Exception:\n",
        "            return 0.0\n",
        "\n",
        "    def evaluate_single_response(self,\n",
        "                               query: str,\n",
        "                               retrieved_context: str,\n",
        "                               generated_answer: str,\n",
        "                               ground_truth: str) -> Dict[str, float]:\n",
        "        \"\"\"\n",
        "        Evaluate a single RAG response using multiple metrics.\n",
        "\n",
        "        Args:\n",
        "            query: Original question or query\n",
        "            retrieved_context: Retrieved context used to generate the answer\n",
        "            generated_answer: Model-generated answer\n",
        "            ground_truth: Ground truth (human) answer\n",
        "\n",
        "        Returns:\n",
        "            Dict containing evaluation metrics\n",
        "        \"\"\"\n",
        "        # Ensure all inputs are strings\n",
        "        query = str(query).strip()\n",
        "        retrieved_context = str(retrieved_context).strip()\n",
        "        generated_answer = str(generated_answer).strip()\n",
        "        ground_truth = str(ground_truth).strip()\n",
        "\n",
        "        # Context relevance score\n",
        "        context_relevance = self._compute_similarity(query, retrieved_context)\n",
        "\n",
        "        # Answer similarity metrics\n",
        "        answer_similarity = self._compute_similarity(ground_truth, generated_answer)\n",
        "\n",
        "        # BLEU score calculation\n",
        "        try:\n",
        "            ground_truth_tokens = nltk.word_tokenize(ground_truth.lower())\n",
        "            generated_tokens = nltk.word_tokenize(generated_answer.lower())\n",
        "            bleu_score = sentence_bleu([ground_truth_tokens], generated_tokens,\n",
        "                                     smoothing_function=self.smoothie)\n",
        "        except Exception:\n",
        "            bleu_score = 0.0\n",
        "\n",
        "        # ROUGE scores calculation\n",
        "        try:\n",
        "            rouge_scores = self.scorer.score(ground_truth, generated_answer)\n",
        "            rouge1 = rouge_scores['rouge1'].fmeasure\n",
        "            rouge2 = rouge_scores['rouge2'].fmeasure\n",
        "            rougeL = rouge_scores['rougeL'].fmeasure\n",
        "        except Exception:\n",
        "            rouge1 = rouge2 = rougeL = 0.0\n",
        "\n",
        "        # Faithfulness score (how well the answer aligns with the context)\n",
        "        faithfulness_score = self._compute_similarity(retrieved_context, generated_answer)\n",
        "\n",
        "        return {\n",
        "            'context_relevance': context_relevance,\n",
        "            'answer_similarity_cosine': answer_similarity,\n",
        "            'answer_similarity_bleu': bleu_score,\n",
        "            'answer_rouge1': rouge1,\n",
        "            'answer_rouge2': rouge2,\n",
        "            'answer_rougeL': rougeL,\n",
        "            'faithfulness': faithfulness_score,\n",
        "            'overall_score': mean([context_relevance, answer_similarity, bleu_score,\n",
        "                                 rouge1, rouge2, rougeL, faithfulness_score])\n",
        "        }\n",
        "\n",
        "def evaluate_questions(questions: List[str],\n",
        "                      human_answers: List[str],\n",
        "                      predicted_answers: List[str],\n",
        "                      retrieved_contexts: Optional[List[str]] = None) -> Dict[str, Dict[str, float]]:\n",
        "    \"\"\"\n",
        "    Evaluate multiple questions and their answers.\n",
        "\n",
        "    Args:\n",
        "        questions: List of questions\n",
        "        human_answers: List of ground truth answers\n",
        "        predicted_answers: List of model-generated answers\n",
        "        retrieved_contexts: Optional list of retrieved contexts (defaults to predicted answers if None)\n",
        "\n",
        "    Returns:\n",
        "        Dict containing evaluation results for each question and aggregate metrics\n",
        "    \"\"\"\n",
        "    if len(questions) != len(human_answers) or len(questions) != len(predicted_answers):\n",
        "        raise ValueError(\"All input lists must have the same length\")\n",
        "\n",
        "    if retrieved_contexts is None:\n",
        "        retrieved_contexts = predicted_answers\n",
        "\n",
        "    evaluator = RAGEvaluator()\n",
        "    results = {}\n",
        "    aggregate_scores = {metric: [] for metric in\n",
        "                       ['context_relevance', 'answer_similarity_cosine', 'answer_similarity_bleu',\n",
        "                        'answer_rouge1', 'answer_rouge2', 'answer_rougeL', 'faithfulness', 'overall_score']}\n",
        "\n",
        "    for i, (question, context, pred_answer, human_answer) in enumerate(\n",
        "        zip(questions, retrieved_contexts, predicted_answers, human_answers), 1):\n",
        "\n",
        "        scores = evaluator.evaluate_single_response(\n",
        "            question, context, pred_answer, human_answer)\n",
        "\n",
        "        results[f'question_{i}'] = {\n",
        "            'question': question,\n",
        "            'human_answer': human_answer,\n",
        "            'predicted_answer': pred_answer,\n",
        "            'retrieved_context': context,\n",
        "            'metrics': scores\n",
        "        }\n",
        "\n",
        "        for metric, score in scores.items():\n",
        "            aggregate_scores[metric].append(score)\n",
        "\n",
        "    # Add aggregate metrics\n",
        "    results['aggregate'] = {\n",
        "        metric: mean(scores) for metric, scores in aggregate_scores.items()\n",
        "    }\n",
        "\n",
        "    return results\n",
        "\n",
        "if __name__ == \"__main__\":\n",
        "    # Example questions and answers (same as in original code)\n",
        "    questions = [\n",
        "        \"What is Amazon's return policy for electronics?\",\n",
        "        \"How long do I have to return clothing items on Amazon?\",\n",
        "        # ... rest of the questions\n",
        "    ]\n",
        "\n",
        "    human_answers = [\n",
        "        \"Amazon typically allows returns for electronics within 30 days of receipt. However, items must be in new condition with all original packaging and accessories.\",\n",
        "        \"Clothing items purchased on Amazon can generally be returned within 30 days of receipt, often with free returns.\",\n",
        "        # ... rest of the human answers\n",
        "    ]\n",
        "\n",
        "    predicted_answers = [\n",
        "        \"Electronics can usually be returned within 30 days. Check the specific product's return policy for details.\",\n",
        "        \"Most clothing items are eligible for return within 30 days, as long as they are unworn and have tags.\",\n",
        "        # ... rest of the predicted answers\n",
        "    ]\n",
        "\n",
        "    results = evaluate_questions(questions, human_answers, predicted_answers)\n",
        "\n",
        "    # Print results\n",
        "    print(\"\\nEvaluation Results\\n\")\n",
        "    for question_id, data in results.items():\n",
        "        if question_id == 'aggregate':\n",
        "            print(\"\\n=== Aggregate Metrics ===\")\n",
        "            for metric, score in data.items():\n",
        "                print(f\"{metric:25}: {score:.4f}\")\n",
        "        else:\n",
        "            print(f\"\\n=== {question_id} ===\")\n",
        "            print(f\"Question: {data['question']}\")\n",
        "            print(f\"Human Answer: {data['human_answer']}\")\n",
        "            print(f\"Predicted Answer: {data['predicted_answer']}\")\n",
        "            print(\"\\nMetrics:\")\n",
        "            for metric, score in data['metrics'].items():\n",
        "                print(f\"{metric:25}: {score:.4f}\")"
      ],
      "metadata": {
        "colab": {
          "base_uri": "https://localhost:8080/"
        },
        "id": "hCRWxeEwm1VH",
        "outputId": "108d5fb6-14f7-484d-8b5c-696c20f5adef"
      },
      "execution_count": null,
      "outputs": [
        {
          "output_type": "stream",
          "name": "stdout",
          "text": [
            "\n",
            "Evaluation Results\n",
            "\n",
            "\n",
            "=== question_1 ===\n",
            "Question: What is Amazon's return policy for electronics?\n",
            "Human Answer: Amazon typically allows returns for electronics within 30 days of receipt. However, items must be in new condition with all original packaging and accessories.\n",
            "Predicted Answer: Electronics can usually be returned within 30 days. Check the specific product's return policy for details.\n",
            "\n",
            "Metrics:\n",
            "context_relevance        : 0.4523\n",
            "answer_similarity_cosine : 0.2417\n",
            "answer_similarity_bleu   : 0.0000\n",
            "answer_rouge1            : 0.3415\n",
            "answer_rouge2            : 0.1026\n",
            "answer_rougeL            : 0.1951\n",
            "faithfulness             : 1.0000\n",
            "overall_score            : 0.3333\n",
            "\n",
            "=== question_2 ===\n",
            "Question: How long do I have to return clothing items on Amazon?\n",
            "Human Answer: Clothing items purchased on Amazon can generally be returned within 30 days of receipt, often with free returns.\n",
            "Predicted Answer: Most clothing items are eligible for return within 30 days, as long as they are unworn and have tags.\n",
            "\n",
            "Metrics:\n",
            "context_relevance        : 0.5963\n",
            "answer_similarity_cosine : 0.4020\n",
            "answer_similarity_bleu   : 0.0000\n",
            "answer_rouge1            : 0.3243\n",
            "answer_rouge2            : 0.2286\n",
            "answer_rougeL            : 0.3243\n",
            "faithfulness             : 1.0000\n",
            "overall_score            : 0.4108\n",
            "\n",
            "=== Aggregate Metrics ===\n",
            "context_relevance        : 0.5243\n",
            "answer_similarity_cosine : 0.3219\n",
            "answer_similarity_bleu   : 0.0000\n",
            "answer_rouge1            : 0.3329\n",
            "answer_rouge2            : 0.1656\n",
            "answer_rougeL            : 0.2597\n",
            "faithfulness             : 1.0000\n",
            "overall_score            : 0.3720\n"
          ]
        }
      ]
    }
  ]
}